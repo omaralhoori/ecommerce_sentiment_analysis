{
 "cells": [
  {
   "cell_type": "code",
   "execution_count": 133,
   "id": "204af9ee-9591-46aa-b3ac-08cabfa0f67e",
   "metadata": {},
   "outputs": [],
   "source": [
    "import re\n",
    "from bs4 import BeautifulSoup\n",
    "import requests\n",
    "import pandas as pd\n",
    "import numpy as np\n",
    "import os"
   ]
  },
  {
   "cell_type": "code",
   "execution_count": 156,
   "id": "07a062e1-9582-4929-869c-02e7bd7330d4",
   "metadata": {},
   "outputs": [],
   "source": [
    "urls = [\n",
    "    'https://www.hepsiburada.com/rampage-sn-r9-oyuncu-siyah-kirmizi-mikrofonlu-kulaklik-p-BDUCZLKPC-28753-yorumlari?sayfa={}&sadeceonayli=evet',\n",
    "    'https://www.hepsiburada.com/1more-xiaomi-1more-piston-fit-kulak-ici-kulaklik-e1009-p-HBV00000NSSKY-yorumlari?sayfa={}&sadeceonayli=evet',\n",
    "    'https://www.hepsiburada.com/evocase-evo300-15-6-notebook-cantasi-evo301-bilek-destekli-mousepad-kablosuz-mouse-set-p-HBV00000NFDTT-yorumlari?sayfa={}&sadeceonayli=evet',\n",
    "    'https://www.hepsiburada.com/general-mobile-gm5-plus-general-mobile-garantili-p-TELCEPGM5PT-RG-yorumlari?sayfa={}&sadeceonayli=evet',\n",
    "    'https://www.hepsiburada.com/samsung-e1190-p-TELCEPSAME1190-K-yorumlari?sayfa={}&sadeceonayli=evet'\n",
    "   ]"
   ]
  },
  {
   "cell_type": "code",
   "execution_count": null,
   "id": "3e8e8e83-cf89-479e-9e26-c0237606b5f7",
   "metadata": {},
   "outputs": [],
   "source": [
    "\"\"\"\n",
    "'https://www.hepsiburada.com/dark-rangemax-wrt360-300mbit-2x3dbi-dahili-antenli-802-11n-wifi-mini-repeater-dk-nt-wrt360-p-HBV00000850Z8-yorumlari?sayfa={}&sadeceonayli=evet',\n",
    "    'https://www.hepsiburada.com/lexmark-mb2236adw-fotokopi-tarama-fax-dubleks-wifi-monochrome-cok-fonksiyonlu-lazer-yazici-p-HBV00000RQDAW-yorumlari?sayfa={}&sadeceonayli=evet',\n",
    "    'https://www.hepsiburada.com/jbl-c100siublk-mikrofonlu-kulakici-kulaklik-ct-ie-siyah-p-HBV00000201EP-yorumlari?sayfa={}&sadeceonayli=evet',\n",
    "'https://www.hepsiburada.com/everest-w777-usb-2-4ghz-optik-wireless-mouse-kirmizi-p-HBV00000A8KM9-yorumlari?sayfa={}&sadeceonayli=evet',\n",
    "   'https://www.hepsiburada.com/everest-km-191-entry-usb-aydinlatmali-oyuncu-klavye-mouse-set-p-HBV00000SSKHT-yorumlari?sayfa={}&sadeceonayli=evet',\n",
    "'https://www.hepsiburada.com/xiaomi-redmi-airdots-basic-2-tws-bluetooth-5-0-kulaklik-p-HBV00000WGFD4-yorumlari?sayfa={}&sadeceonayli=evet',\n",
    "    'https://www.hepsiburada.com/ixtech-thinbook-intel-atom-z3735f-2gb-32gb-emmc-windows-10-home-11-6-fhd-tasinabilir-bilgisayar-p-HBV00000PO6T7-yorumlari?sayfa={}&sadeceonayli=evet',\n",
    "    'https://www.hepsiburada.com/mmctech-m4-akilli-bileklik-p-HBV00000MLW9D-yorumlari?sayfa={}&sadeceonayli=evet',\n",
    "    'https://www.hepsiburada.com/samsung-ta20-adaptec-fast-charge-hizli-seyahat-sarji-micro-cikisli-beyaz-samsung-turkiye-garantilidir-p-HBV000003KBMX-yorumlari?sayfa={}&sadeceonayli=evet',\n",
    "    'https://www.hepsiburada.com/arcelik-ac-6030-havadar-uzaktan-kumandali-iyonizer-hava-sogutucu-p-hbv00000lkpnz-yorumlari?sayfa={}&sadeceonayli=evet',\n",
    "     'https://www.hepsiburada.com/kingston-datatraveler-106-32gb-usb-3-0-bellek-dt106-32gb-p-HBV00000EF1QT-yorumlari?sayfa={}&sadeceonayli=evet',\n",
    "    'https://www.hepsiburada.com/awox-u5100-50-127-ekran-uydu-alicili-4k-smart-d-led-tv-p-HBV00000RTQ7W-yorumlari?sayfa={}&sadeceonayli=evet'\n",
    "\"\"\""
   ]
  },
  {
   "cell_type": "code",
   "execution_count": 19,
   "id": "5a0a489b-b356-4e70-bf9c-64f3d722c98e",
   "metadata": {},
   "outputs": [],
   "source": [
    "def filter_content_holder(holder):\n",
    "    description = holder.find('span', {\"itemprop\":\"description\"})\n",
    "    return True if description else False"
   ]
  },
  {
   "cell_type": "code",
   "execution_count": 42,
   "id": "d0896ebb-aca1-4daf-814c-dfc8c35f0b17",
   "metadata": {},
   "outputs": [],
   "source": [
    "def get_comment_stars(comment):\n",
    "    return len(comment.find_all('path', {\"fill\": '#f28b00'}))"
   ]
  },
  {
   "cell_type": "code",
   "execution_count": 55,
   "id": "af66b212-9b04-449c-93bd-5820d644a761",
   "metadata": {},
   "outputs": [],
   "source": [
    "def filter_comments_by_stars(comment):\n",
    "    stars = get_comment_stars(comment)\n",
    "    return True if stars == 5 or stars == 1 else False"
   ]
  },
  {
   "cell_type": "code",
   "execution_count": 56,
   "id": "22742052-cbc1-4a64-8d50-bf2b8b7452bd",
   "metadata": {},
   "outputs": [],
   "source": [
    "def get_comment_sentiment(comment):\n",
    "    stars = get_comment_stars(comment)\n",
    "    return 'Olumlu' if stars == 5 else 'Olumsuz'"
   ]
  },
  {
   "cell_type": "code",
   "execution_count": 142,
   "id": "ec57bfd2-491f-4617-9dff-9804cdeac26e",
   "metadata": {},
   "outputs": [],
   "source": [
    "def deEmojify(inputString):\n",
    "    regrex_pattern = re.compile(pattern = \"[\"\n",
    "        u\"\\U0001F600-\\U0001F64F\"  # emoticons\n",
    "        u\"\\U0001F300-\\U0001F5FF\"  # symbols & pictographs\n",
    "        u\"\\U0001F680-\\U0001F6FF\"  # transport & map symbols\n",
    "        u\"\\U0001F1E0-\\U0001F1FF\"  # flags (iOS)\n",
    "                           \"]+\", flags = re.UNICODE)\n",
    "    return regrex_pattern.sub(r'',inputString)"
   ]
  },
  {
   "cell_type": "code",
   "execution_count": 157,
   "id": "8439abe7-6c15-469b-9196-0cbf58dcf905",
   "metadata": {},
   "outputs": [
    {
     "name": "stdout",
     "output_type": "stream",
     "text": [
      "Done: https://www.hepsiburada.com/rampage-sn-r9-oyuncu-siyah-kirmizi-mikrofonlu-kulaklik-p-BDUCZLKPC-28753-yorumlari?sayfa={}&sadeceonayli=evet\n",
      "Done: https://www.hepsiburada.com/1more-xiaomi-1more-piston-fit-kulak-ici-kulaklik-e1009-p-HBV00000NSSKY-yorumlari?sayfa={}&sadeceonayli=evet\n",
      "Done: https://www.hepsiburada.com/evocase-evo300-15-6-notebook-cantasi-evo301-bilek-destekli-mousepad-kablosuz-mouse-set-p-HBV00000NFDTT-yorumlari?sayfa={}&sadeceonayli=evet\n",
      "Done: https://www.hepsiburada.com/general-mobile-gm5-plus-general-mobile-garantili-p-TELCEPGM5PT-RG-yorumlari?sayfa={}&sadeceonayli=evet\n",
      "Done: https://www.hepsiburada.com/samsung-e1190-p-TELCEPSAME1190-K-yorumlari?sayfa={}&sadeceonayli=evet\n"
     ]
    }
   ],
   "source": [
    "for url in urls:\n",
    "    response = requests.get(url.format(1), headers={'User-Agent': 'Custom'})\n",
    "    soup = BeautifulSoup(response.text, 'html.parser')\n",
    "    last_page = int(soup.find('div', {\"class\":\"paginationBarHolder\"}).findAll('li')[-1].text)\n",
    "    comments = []\n",
    "    sentiments = []\n",
    "    for i in range(1, last_page + 1):\n",
    "        response = requests.get(url.format(i), headers={'User-Agent': 'Custom'})\n",
    "        soup = BeautifulSoup(response.text, 'html.parser')\n",
    "        content_holder = soup.find('div', {\"class\": \"paginationContentHolder\"})\n",
    "        comments_holder  = list(filter(filter_content_holder, content_holder.find_all('div', recursive=False)))\n",
    "        comments_holder = list(filter(filter_comments_by_stars, comments_holder))\n",
    "        for comment in comments_holder:\n",
    "            comments.append(deEmojify(comment.find('span', {\"itemprop\":\"description\"}).text))\n",
    "            sentiments.append(get_comment_sentiment(comment))\n",
    "    comments_list = [[comment, sentiment] for comment, sentiment in zip(comments, sentiments)]\n",
    "    comments_array = np.array(comments_list)\n",
    "    max_comments = len(comments_array[comments_array[:,1] == 'Olumlu']) if len(comments_array[comments_array[:,1] == 'Olumlu']) < len(comments_array[comments_array[:,1] == 'Olumsuz']) else len(comments_array[comments_array[:,1] == 'Olumsuz'])\n",
    "    np.random.shuffle(comments_array)\n",
    "    minimized_array = np.concatenate((comments_array[comments_array[:,1] == 'Olumlu'][:max_comments], comments_array[comments_array[:,1] == 'Olumsuz'][:max_comments]))\n",
    "    np.random.shuffle(minimized_array)\n",
    "    comments_df = pd.DataFrame(minimized_array, columns=['Görüş', 'Durum'])\n",
    "    if os.path.exists('yorumlar.csv'):\n",
    "        comments_df.to_csv('yorumlar.csv', mode='a', header=False, index=False)\n",
    "    else:\n",
    "        comments_df.to_csv('yorumlar.csv', index=False)\n",
    "    print('Done:',url)"
   ]
  },
  {
   "cell_type": "code",
   "execution_count": null,
   "id": "b5b82970-1080-45fd-8102-42bc4d3355f1",
   "metadata": {},
   "outputs": [],
   "source": []
  }
 ],
 "metadata": {
  "kernelspec": {
   "display_name": "Python 3",
   "language": "python",
   "name": "python3"
  },
  "language_info": {
   "codemirror_mode": {
    "name": "ipython",
    "version": 3
   },
   "file_extension": ".py",
   "mimetype": "text/x-python",
   "name": "python",
   "nbconvert_exporter": "python",
   "pygments_lexer": "ipython3",
   "version": "3.8.8"
  },
  "toc-autonumbering": false,
  "toc-showcode": false,
  "toc-showmarkdowntxt": false
 },
 "nbformat": 4,
 "nbformat_minor": 5
}
